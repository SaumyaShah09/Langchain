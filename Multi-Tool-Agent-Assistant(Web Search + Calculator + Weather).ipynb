{
 "cells": [
  {
   "metadata": {},
   "cell_type": "markdown",
   "source": [
    "Multi-Tool Agent Assistant (Web Search + Calculator + Weather)\n",
    "Create an AI assistant that uses tools to answer complex questions with tools for Web Search (SerpAPI), Calculator, Weather (API). Ask: \"What’s the weather in Paris and what’s 5°C in Fahrenheit?\""
   ],
   "id": "9e4811ae1006d31e"
  },
  {
   "metadata": {
    "ExecuteTime": {
     "end_time": "2025-05-29T09:09:46.803829Z",
     "start_time": "2025-05-29T09:09:43.478746Z"
    }
   },
   "cell_type": "code",
   "source": [
    "import os\n",
    "from langchain_groq import ChatGroq\n",
    "from langchain_core.tools import tool\n",
    "from langchain_community.utilities.serpapi import SerpAPIWrapper\n",
    "from langchain.agents import create_tool_calling_agent, AgentExecutor\n",
    "from langchain.prompts import ChatPromptTemplate\n",
    "from langchain.memory import ConversationSummaryBufferMemory\n",
    "\n",
    "\n",
    "from dotenv import load_dotenv\n",
    "load_dotenv()\n",
    "groq = os.getenv(\"GROQ_API_KEY\")\n",
    "serp = os.getenv(\"SERPAPI_API_KEY\")\n",
    "\n",
    "llm = ChatGroq(model=\"llama3-70b-8192\", temperature=0)\n"
   ],
   "id": "cc1ec67c0dadf471",
   "outputs": [],
   "execution_count": 1
  },
  {
   "metadata": {},
   "cell_type": "markdown",
   "source": "SerpAPI tool",
   "id": "541d89f871316eb0"
  },
  {
   "metadata": {
    "ExecuteTime": {
     "end_time": "2025-05-29T09:09:46.854668Z",
     "start_time": "2025-05-29T09:09:46.818836Z"
    }
   },
   "cell_type": "code",
   "source": [
    "search = SerpAPIWrapper()\n",
    "\n",
    "@tool\n",
    "def web_search(query: str) -> str:\n",
    "    \"\"\"Search the web for current information using SerpAPI.\"\"\"\n",
    "    return search.run(query)\n"
   ],
   "id": "4245b893c2ed84f9",
   "outputs": [],
   "execution_count": 2
  },
  {
   "metadata": {},
   "cell_type": "markdown",
   "source": "Calculator tool\n",
   "id": "f0a486c00a0dc670"
  },
  {
   "metadata": {
    "ExecuteTime": {
     "end_time": "2025-05-29T09:09:48.187277Z",
     "start_time": "2025-05-29T09:09:48.078751Z"
    }
   },
   "cell_type": "code",
   "source": [
    "@tool\n",
    "def calc(operation: str, a: float, b: float) -> float:\n",
    "    \"\"\"Perform basic arithmetic. Operation must be 'add' or 'subtract'.\"\"\"\n",
    "    if operation == \"add\":\n",
    "        return a + b\n",
    "    elif operation == \"subtract\":\n",
    "        return a - b\n",
    "    elif operation == \"multiply\":\n",
    "        return a * b\n",
    "    elif operation == \"divide\":\n",
    "        return a / b\n",
    "    else:\n",
    "        raise ValueError(\"Unsupported operation. Use 'add','subtract','multiplication','division'.\")\n"
   ],
   "id": "201a06742f1fc6db",
   "outputs": [],
   "execution_count": 3
  },
  {
   "metadata": {},
   "cell_type": "markdown",
   "source": "Celsius to ahrenheit tool",
   "id": "d03f5546ab569c11"
  },
  {
   "metadata": {
    "ExecuteTime": {
     "end_time": "2025-05-29T09:09:48.264649Z",
     "start_time": "2025-05-29T09:09:48.255649Z"
    }
   },
   "cell_type": "code",
   "source": [
    "@tool\n",
    "def celsius_to_fahrenheit(celsius: float) -> float:\n",
    "    \"\"\"Convert Celsius to Fahrenheit.\"\"\"\n",
    "    return (celsius * 9/5) + 32"
   ],
   "id": "27850dcb577c1dc1",
   "outputs": [],
   "execution_count": 4
  },
  {
   "metadata": {},
   "cell_type": "markdown",
   "source": "Defining the tools and prompt for model",
   "id": "75fd7a27a47f6e28"
  },
  {
   "metadata": {
    "ExecuteTime": {
     "end_time": "2025-05-29T09:09:48.305547Z",
     "start_time": "2025-05-29T09:09:48.301646Z"
    }
   },
   "cell_type": "code",
   "source": [
    "tools = [web_search, calc, celsius_to_fahrenheit]\n",
    "\n",
    "prompt = ChatPromptTemplate.from_messages([\n",
    "    (\"system\",\n",
    "     \"You are a helpful AI assistant. You can use the following tools:\\n\"\n",
    "     \"- 'web_search': to search for current information like weather.\\n\"\n",
    "     \"- 'celsius_to_fahrenheit': to convert Celsius to Fahrenheit.\\n\"\n",
    "     \"- 'calculator': to perform basic math like addition or multiplication.\\n\"\n",
    "     \"Respond step by step and invoke tools as needed.\"),\n",
    "    (\"user\", \"{input}\"),\n",
    "    (\"placeholder\", \"{agent_scratchpad}\")\n",
    "])\n"
   ],
   "id": "fbac3697c412b41d",
   "outputs": [],
   "execution_count": 5
  },
  {
   "metadata": {},
   "cell_type": "markdown",
   "source": "Initializing the agent and memory",
   "id": "99503425af63a17e"
  },
  {
   "metadata": {
    "ExecuteTime": {
     "end_time": "2025-05-29T09:09:48.351187Z",
     "start_time": "2025-05-29T09:09:48.336154Z"
    }
   },
   "cell_type": "code",
   "source": [
    "from langchain.agents import AgentExecutor, create_tool_calling_agent\n",
    "from langchain.memory import ConversationBufferMemory\n",
    "\n",
    "agent = create_tool_calling_agent(\n",
    "    llm=llm,\n",
    "    tools=tools,\n",
    "    prompt=prompt\n",
    ")\n",
    "\n",
    "\n",
    "memory = ConversationBufferMemory(\n",
    "    llm=llm,\n",
    "    max_token_limit=1000,\n",
    "    return_messages=True\n",
    ")\n",
    "\n",
    "\n",
    "agent_executor = AgentExecutor.from_agent_and_tools(\n",
    "    agent=agent,\n",
    "    tools=tools,\n",
    "    memory=memory,\n",
    "    handle_parsing_errors=True,\n",
    ")"
   ],
   "id": "757451866e6c8b81",
   "outputs": [
    {
     "name": "stderr",
     "output_type": "stream",
     "text": [
      "C:\\Users\\sayhe\\AppData\\Local\\Temp\\ipykernel_1952\\2680405380.py:11: LangChainDeprecationWarning: Please see the migration guide at: https://python.langchain.com/docs/versions/migrating_memory/\n",
      "  memory = ConversationBufferMemory(\n"
     ]
    }
   ],
   "execution_count": 6
  },
  {
   "metadata": {},
   "cell_type": "markdown",
   "source": "Testing",
   "id": "807cba36606192f4"
  },
  {
   "metadata": {
    "ExecuteTime": {
     "end_time": "2025-05-29T09:09:53.433172Z",
     "start_time": "2025-05-29T09:09:48.526622Z"
    }
   },
   "cell_type": "code",
   "source": [
    "response = agent_executor.invoke({\n",
    "    \"input\": \"What's the current weather in Paris? Also, convert 5 degrees Celsius to Fahrenheit and also calculate the sum of 10 and 42.\"\n",
    "})\n",
    "print(response[\"output\"])\n"
   ],
   "id": "4981423a2c0c5fa3",
   "outputs": [
    {
     "name": "stdout",
     "output_type": "stream",
     "text": [
      "The current weather in Paris is mostly cloudy with a temperature of 68 degrees Fahrenheit, 0% precipitation, 56% humidity, and a wind speed of 5 mph. 5 degrees Celsius is equal to 41.0. The sum of 10 and 42 is 52.0.\n"
     ]
    }
   ],
   "execution_count": 7
  }
 ],
 "metadata": {
  "kernelspec": {
   "display_name": "Python 3",
   "language": "python",
   "name": "python3"
  },
  "language_info": {
   "codemirror_mode": {
    "name": "ipython",
    "version": 2
   },
   "file_extension": ".py",
   "mimetype": "text/x-python",
   "name": "python",
   "nbconvert_exporter": "python",
   "pygments_lexer": "ipython2",
   "version": "2.7.6"
  }
 },
 "nbformat": 4,
 "nbformat_minor": 5
}
