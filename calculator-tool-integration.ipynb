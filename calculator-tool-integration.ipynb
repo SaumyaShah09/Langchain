{
 "cells": [
  {
   "metadata": {},
   "cell_type": "markdown",
   "source": "Create a calculator tool (addition, subtraction) and integrate it with your LangChain chatbot using the tool calling interface.",
   "id": "8abea7dbfa6c9c28"
  },
  {
   "metadata": {
    "ExecuteTime": {
     "end_time": "2025-05-26T11:21:38.753479Z",
     "start_time": "2025-05-26T11:21:38.727036Z"
    }
   },
   "cell_type": "code",
   "source": [
    "import os\n",
    "from dotenv import load_dotenv\n",
    "load_dotenv()\n",
    "groq = os.getenv(\"GROQ_API_KEY\")\n"
   ],
   "id": "2f8bdc46e7df1f2",
   "outputs": [],
   "execution_count": 1
  },
  {
   "metadata": {
    "ExecuteTime": {
     "end_time": "2025-05-26T11:21:41.539241Z",
     "start_time": "2025-05-26T11:21:39.778475Z"
    }
   },
   "cell_type": "code",
   "source": [
    "from langchain_core.tools import tool\n",
    "\n",
    "@tool\n",
    "def calc(operation: str, a: float, b: float) -> float:\n",
    "    \"\"\"\"Perform basic arithmetic. Operation must be 'add', 'plus', 'subtract', or 'minus'.\"\"\"\n",
    "    if operation == \"add\":\n",
    "        return a + b\n",
    "    elif operation == \"subtract\":\n",
    "        return a - b\n",
    "    else:\n",
    "        raise ValueError(\"Unsupported operation. Use 'add' or 'subtract'.\")\n"
   ],
   "id": "fabccae47fdd078",
   "outputs": [],
   "execution_count": 2
  },
  {
   "metadata": {
    "ExecuteTime": {
     "end_time": "2025-05-26T11:21:42.785752Z",
     "start_time": "2025-05-26T11:21:41.972735Z"
    }
   },
   "cell_type": "code",
   "source": [
    "from langchain_groq import ChatGroq\n",
    "\n",
    "llm = ChatGroq(\n",
    "    model_name=\"llama3-70b-8192\",\n",
    "    temperature=0.5\n",
    ")"
   ],
   "id": "22e612088c2c81b",
   "outputs": [],
   "execution_count": 3
  },
  {
   "metadata": {
    "ExecuteTime": {
     "end_time": "2025-05-26T11:21:44.082821Z",
     "start_time": "2025-05-26T11:21:42.805148Z"
    }
   },
   "cell_type": "code",
   "source": [
    "from langchain.agents import create_tool_calling_agent, AgentExecutor\n",
    "from langchain.prompts import ChatPromptTemplate\n",
    "\n",
    "tools = [calc]\n",
    "\n",
    "prompt = ChatPromptTemplate.from_messages([\n",
    "    (\"system\", \"You are a helpful assistant that can use tools.\"),\n",
    "    (\"user\", \"{input}\"),\n",
    "    (\"placeholder\", \"{agent_scratchpad}\")\n",
    "])\n",
    "\n",
    "agent = create_tool_calling_agent(\n",
    "    llm=llm,\n",
    "    tools=tools,\n",
    "    prompt=prompt\n",
    ")\n",
    "\n",
    "\n",
    "agent_executor = AgentExecutor(agent=agent, tools=tools)\n"
   ],
   "id": "377ff704084779bb",
   "outputs": [],
   "execution_count": 4
  },
  {
   "metadata": {
    "ExecuteTime": {
     "end_time": "2025-05-26T11:21:46.810973Z",
     "start_time": "2025-05-26T11:21:44.114302Z"
    }
   },
   "cell_type": "code",
   "source": [
    "\n",
    "response = agent_executor.invoke({\n",
    "    \"input\": \"What is 12 plus 8?\"\n",
    "})\n",
    "print(response[\"output\"])\n",
    "\n",
    "\n",
    "response = agent_executor.invoke({\n",
    "    \"input\": \"subtract 5 from 20\"\n",
    "})\n",
    "print(response[\"output\"])\n"
   ],
   "id": "27a8758d139e86f8",
   "outputs": [
    {
     "name": "stdout",
     "output_type": "stream",
     "text": [
      "The answer is 20.\n",
      "The result is 15.\n"
     ]
    }
   ],
   "execution_count": 5
  }
 ],
 "metadata": {
  "kernelspec": {
   "display_name": "Python 3",
   "language": "python",
   "name": "python3"
  },
  "language_info": {
   "codemirror_mode": {
    "name": "ipython",
    "version": 2
   },
   "file_extension": ".py",
   "mimetype": "text/x-python",
   "name": "python",
   "nbconvert_exporter": "python",
   "pygments_lexer": "ipython2",
   "version": "2.7.6"
  }
 },
 "nbformat": 4,
 "nbformat_minor": 5
}
