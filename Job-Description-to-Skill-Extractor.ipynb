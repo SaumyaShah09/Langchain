{
 "cells": [
  {
   "metadata": {},
   "cell_type": "markdown",
   "source": [
    "Job Description to Skill Extractor\n",
    "\n",
    "Input: Raw job description\n",
    "Output: List of required skills, categorized into soft and technical"
   ],
   "id": "b5abcf6c3322e66a"
  },
  {
   "metadata": {
    "ExecuteTime": {
     "end_time": "2025-05-28T13:52:06.650705Z",
     "start_time": "2025-05-28T13:52:06.642732Z"
    }
   },
   "cell_type": "code",
   "source": [
    "import os\n",
    "from dotenv import load_dotenv\n",
    "load_dotenv()\n",
    "groq = os.getenv(\"GROQ_API_KEY\")\n"
   ],
   "id": "372cf059a20a1dff",
   "outputs": [],
   "execution_count": 7
  },
  {
   "metadata": {
    "ExecuteTime": {
     "end_time": "2025-05-28T13:52:06.707796Z",
     "start_time": "2025-05-28T13:52:06.700587Z"
    }
   },
   "cell_type": "code",
   "source": [
    "from langchain.prompts import PromptTemplate\n",
    "from langchain_groq import ChatGroq\n",
    "from langchain.chains import LLMChain"
   ],
   "id": "c6c22091e6de4e7",
   "outputs": [],
   "execution_count": 8
  },
  {
   "metadata": {
    "ExecuteTime": {
     "end_time": "2025-05-28T13:52:06.826293Z",
     "start_time": "2025-05-28T13:52:06.786986Z"
    }
   },
   "cell_type": "code",
   "source": "llm = ChatGroq(temperature=0.3, model_name=\"llama3-70b-8192\")",
   "id": "39079bdf3eee0ee1",
   "outputs": [],
   "execution_count": 9
  },
  {
   "metadata": {
    "ExecuteTime": {
     "end_time": "2025-05-28T13:52:06.873636Z",
     "start_time": "2025-05-28T13:52:06.868672Z"
    }
   },
   "cell_type": "code",
   "source": [
    "prompt = PromptTemplate(\n",
    "    input_variables=[\"job_description\"],\n",
    "    template=\"\"\"\n",
    "You are an HR Head and you have to extract the required skills from the following job description.\n",
    "Categorize them into:\n",
    "- Technical Skills\n",
    "- Soft Skills\n",
    "\n",
    "Job Description:\n",
    "{job_description}\n",
    "\n",
    "Output format:\n",
    "Technical Skills:\n",
    "- Skill 1\n",
    "- Skill 2\n",
    "...\n",
    "\n",
    "Soft Skills:\n",
    "- Skill 1\n",
    "- Skill 2\n",
    "...\n",
    "\"\"\"\n",
    ")\n"
   ],
   "id": "d92df2d8e5bd92c1",
   "outputs": [],
   "execution_count": 10
  },
  {
   "metadata": {
    "ExecuteTime": {
     "end_time": "2025-05-28T13:52:06.924018Z",
     "start_time": "2025-05-28T13:52:06.918593Z"
    }
   },
   "cell_type": "code",
   "source": "chain  = LLMChain(llm=llm,prompt=prompt)",
   "id": "cb25435b944cc680",
   "outputs": [],
   "execution_count": 11
  },
  {
   "metadata": {
    "ExecuteTime": {
     "end_time": "2025-05-28T13:52:10.298178Z",
     "start_time": "2025-05-28T13:52:06.990946Z"
    }
   },
   "cell_type": "code",
   "source": "job_description = input(\"Enter you job Description : \")",
   "id": "c3913e7f11ceb1cc",
   "outputs": [],
   "execution_count": 12
  },
  {
   "metadata": {
    "ExecuteTime": {
     "end_time": "2025-05-28T13:52:11.271724Z",
     "start_time": "2025-05-28T13:52:10.483431Z"
    }
   },
   "cell_type": "code",
   "source": "response = chain.invoke({\"job_description\" : job_description})",
   "id": "6106931a418b3373",
   "outputs": [],
   "execution_count": 13
  },
  {
   "metadata": {
    "ExecuteTime": {
     "end_time": "2025-05-28T13:52:11.303271Z",
     "start_time": "2025-05-28T13:52:11.296269Z"
    }
   },
   "cell_type": "code",
   "source": "print(response[\"text\"])",
   "id": "858bb3a075892ec1",
   "outputs": [
    {
     "name": "stdout",
     "output_type": "stream",
     "text": [
      "Here are the required skills extracted from the job description, categorized into Technical Skills and Soft Skills:\n",
      "\n",
      "**Technical Skills:**\n",
      "\n",
      "- Python\n",
      "- Django\n",
      "- REST APIs\n",
      "- Docker\n",
      "\n",
      "**Soft Skills:**\n",
      "\n",
      "- Problem-solving skills\n",
      "- Communication abilities\n",
      "- Self-starter\n",
      "- Attention to detail\n",
      "- Ability to manage multiple tasks\n",
      "- Collaboration and teamwork (implied by \"collaborating closely with cross-functional teams\")\n"
     ]
    }
   ],
   "execution_count": 14
  },
  {
   "metadata": {},
   "cell_type": "markdown",
   "source": [
    "Sample Input :\n",
    "We are looking for a highly motivated Software Engineer to join our backend development team. The ideal candidate should have strong experience with Python, Django, and REST APIs. Familiarity with PostgreSQL and Docker is a plus. You will work in an Agile environment, collaborating closely with cross-functional teams. Excellent problem-solving skills and communication abilities are essential. The role requires a self-starter with attention to detail and the ability to manage multiple tasks.\n",
    "\n"
   ],
   "id": "e0746bb266c0c8cf"
  }
 ],
 "metadata": {
  "kernelspec": {
   "display_name": "Python 3",
   "language": "python",
   "name": "python3"
  },
  "language_info": {
   "codemirror_mode": {
    "name": "ipython",
    "version": 2
   },
   "file_extension": ".py",
   "mimetype": "text/x-python",
   "name": "python",
   "nbconvert_exporter": "python",
   "pygments_lexer": "ipython2",
   "version": "2.7.6"
  }
 },
 "nbformat": 4,
 "nbformat_minor": 5
}
