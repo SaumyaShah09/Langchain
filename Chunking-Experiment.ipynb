{
 "cells": [
  {
   "metadata": {},
   "cell_type": "raw",
   "source": [
    "Chunking Experiment\n",
    "Evaluate retrieval quality with chunk sizes 256, 512, 1024 tokens on a long PDF;\n",
    "summarize which size worked best and why."
   ],
   "id": "69064899e3d913bb"
  },
  {
   "metadata": {},
   "cell_type": "code",
   "source": [
    "import fitz\n",
    "from langchain.text_splitter import RecursiveCharacterTextSplitter\n",
    "from langchain.docstore.document import Document\n",
    "from langchain.vectorstores import FAISS\n",
    "from langchain_huggingface import HuggingFaceEmbeddings\n",
    "from sentence_transformers import SentenceTransformer\n"
   ],
   "id": "initial_id",
   "outputs": [],
   "execution_count": null
  },
  {
   "metadata": {},
   "cell_type": "markdown",
   "source": "Getting text from pdf",
   "id": "88df1e36acf726f6"
  },
  {
   "metadata": {},
   "cell_type": "code",
   "source": [
    "def text_to_pdf(pdf_path):\n",
    "    doc = fitz.open(pdf_path)\n",
    "    full_text = \"\"\n",
    "    for page in doc:\n",
    "        full_text = full_text+page.get_text()\n",
    "    return full_text"
   ],
   "id": "8cfb0c43a9d06a47",
   "outputs": [],
   "execution_count": null
  },
  {
   "metadata": {},
   "cell_type": "markdown",
   "source": "converting them into document",
   "id": "9555ba4716a016aa"
  },
  {
   "metadata": {},
   "cell_type": "code",
   "source": [
    "def document(text):\n",
    "    return [Document(page_content=text)]"
   ],
   "id": "ca8a388470c5d2ef",
   "outputs": [],
   "execution_count": null
  },
  {
   "metadata": {},
   "cell_type": "markdown",
   "source": "Splitting them into chunks",
   "id": "547d830ad810b1f6"
  },
  {
   "metadata": {},
   "cell_type": "code",
   "source": [
    "def split_chunks(docs,chunk_size,chunk_overlap=50):\n",
    "    splitter = RecursiveCharacterTextSplitter(\n",
    "        chunk_size=chunk_size,\n",
    "        chunk_overlap=chunk_overlap\n",
    "    )\n",
    "    return splitter.split_documents(docs)"
   ],
   "id": "c6b8a6f618d88693",
   "outputs": [],
   "execution_count": null
  },
  {
   "metadata": {},
   "cell_type": "markdown",
   "source": "Storing in FAISS",
   "id": "8c82f4384dae2a63"
  },
  {
   "metadata": {},
   "cell_type": "code",
   "source": [
    "def embeded_store(chunks,embedding_model):\n",
    "    return FAISS.from_documents(chunks,embedding_model)"
   ],
   "id": "2b4be086db47b53b",
   "outputs": [],
   "execution_count": null
  },
  {
   "metadata": {},
   "cell_type": "markdown",
   "source": "Searching",
   "id": "767c5c7cc3034d85"
  },
  {
   "metadata": {},
   "cell_type": "code",
   "source": [
    "def search_and_print(db,query,label):\n",
    "    print(f\"\\n\\nresult for the chunk size: {label} ---\")\n",
    "    results = db.similarity_search(query,k=3)\\\n",
    "\n",
    "    count = 1\n",
    "    for result in results:\n",
    "        print(\"Result\",count)\n",
    "        print(result.page_content[:500])\n",
    "        count = count +1"
   ],
   "id": "92bfb8b8e1664ce6",
   "outputs": [],
   "execution_count": null
  },
  {
   "metadata": {},
   "cell_type": "code",
   "source": [
    "pdf_path = \"C:/Users/sayhe/PycharmProjects/Summer_internship/artificial_intelligence.pdf\"\n",
    "query = input(\"What do you want to search in pdf : \")\n",
    "\n",
    "print(\"Extracting the texts...\")\n",
    "text=text_to_pdf(pdf_path)\n",
    "docs = document(text)\n",
    "\n",
    "embedding_model = HuggingFaceEmbeddings(\n",
    "    model_name=\"sentence-transformers/all-MiniLM-L6-v2\"\n",
    ")\n",
    "\n"
   ],
   "id": "3c286a112e634e2c",
   "outputs": [],
   "execution_count": null
  },
  {
   "metadata": {},
   "cell_type": "code",
   "source": [
    "chunks_256 = split_chunks(docs,chunk_size=256)\n",
    "chunks_512 = split_chunks(docs,chunk_size=512)\n",
    "chunks_1024 = split_chunks(docs,chunk_size=1024)\n",
    "\n",
    "print(\"embedding and storing the chunks...\")\n"
   ],
   "id": "86c3dc59d1471ca9",
   "outputs": [],
   "execution_count": null
  },
  {
   "metadata": {},
   "cell_type": "code",
   "source": [
    "db_256 = embeded_store(chunks_256,embedding_model)\n",
    "db_512 = embeded_store(chunks_512,embedding_model)\n",
    "db_1024 = embeded_store(chunks_1024,embedding_model)"
   ],
   "id": "5d47e9462edbeee5",
   "outputs": [],
   "execution_count": null
  },
  {
   "metadata": {},
   "cell_type": "code",
   "source": [
    "search_and_print(db_256,query,\"256 tokens\")\n",
    "search_and_print(db_512,query,\"512 tokens\")\n",
    "search_and_print(db_1024,query,\"1024 tokens\")"
   ],
   "id": "dc5add4481314ec8",
   "outputs": [],
   "execution_count": null
  }
 ],
 "metadata": {
  "kernelspec": {
   "display_name": "Python 3",
   "language": "python",
   "name": "python3"
  },
  "language_info": {
   "codemirror_mode": {
    "name": "ipython",
    "version": 2
   },
   "file_extension": ".py",
   "mimetype": "text/x-python",
   "name": "python",
   "nbconvert_exporter": "python",
   "pygments_lexer": "ipython2",
   "version": "2.7.6"
  }
 },
 "nbformat": 4,
 "nbformat_minor": 5
}
