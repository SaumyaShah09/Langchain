{
 "cells": [
  {
   "metadata": {},
   "cell_type": "markdown",
   "source": [
    "SQL Database Natural Language Query Interface\n",
    "Query a real database (e.g., SQLite or PostgreSQL) using plain English."
   ],
   "id": "fecd8a9af1128253"
  },
  {
   "metadata": {},
   "cell_type": "markdown",
   "source": "Groq API key",
   "id": "1089daaa14cf032f"
  },
  {
   "metadata": {
    "ExecuteTime": {
     "end_time": "2025-05-29T06:53:52.291164Z",
     "start_time": "2025-05-29T06:53:52.272972Z"
    }
   },
   "cell_type": "code",
   "source": [
    "import os\n",
    "from dotenv import load_dotenv\n",
    "load_dotenv()\n",
    "groq = os.getenv(\"GROQ_API_KEY\")\n"
   ],
   "id": "initial_id",
   "outputs": [],
   "execution_count": 6
  },
  {
   "metadata": {},
   "cell_type": "markdown",
   "source": "creating the database",
   "id": "bb2397e0ce0f76f5"
  },
  {
   "metadata": {
    "ExecuteTime": {
     "end_time": "2025-05-29T06:53:52.457779Z",
     "start_time": "2025-05-29T06:53:52.395081Z"
    }
   },
   "cell_type": "code",
   "source": [
    "import sqlite3\n",
    "\n",
    "conn = sqlite3.connect(\"../example.db\")\n",
    "cursor = conn.cursor()\n",
    "\n",
    "\n",
    "cursor.execute(\"DROP TABLE IF EXISTS employees\")\n",
    "cursor.execute(\"DROP TABLE IF EXISTS departments\")\n",
    "\n",
    "cursor.execute(\"\"\"\n",
    "CREATE TABLE departments (\n",
    "    dept_id INTEGER PRIMARY KEY,\n",
    "    dept_name TEXT\n",
    ")\n",
    "\"\"\")\n",
    "\n",
    "cursor.executemany(\"\"\"\n",
    "INSERT INTO departments (dept_id, dept_name)\n",
    "VALUES (?, ?)\n",
    "\"\"\", [\n",
    "    (1, \"Engineering\"),\n",
    "    (2, \"Design\"),\n",
    "    (3, \"Management\"),\n",
    "])\n",
    "\n",
    "\n",
    "cursor.execute(\"\"\"\n",
    "CREATE TABLE employees (\n",
    "    id INTEGER PRIMARY KEY,\n",
    "    name TEXT,\n",
    "    role TEXT,\n",
    "    salary INTEGER,\n",
    "    dept_id INTEGER,\n",
    "    FOREIGN KEY(dept_id) REFERENCES departments(dept_id)\n",
    ")\n",
    "\"\"\")\n",
    "\n",
    "\n",
    "\n",
    "cursor.executemany(\"\"\"\n",
    "INSERT INTO employees (id, name, role, salary, dept_id)\n",
    "VALUES (?, ?, ?, ?, ?)\n",
    "\"\"\", [\n",
    "    (1, \"Alice\", \"Engineer\", 120000, 1),\n",
    "    (2, \"Bob\", \"Designer\", 90000, 2),\n",
    "    (3, \"Charlie\", \"Manager\", 150000, 3),\n",
    "    (4, \"David\", \"Engineer\", 110000, 1),\n",
    "    (5, \"Eva\", \"Designer\", 85000, 2),\n",
    "])\n",
    "\n",
    "conn.commit()\n",
    "conn.close()\n"
   ],
   "id": "7c928454a89e43f7",
   "outputs": [],
   "execution_count": 7
  },
  {
   "metadata": {},
   "cell_type": "markdown",
   "source": "Importing the LLM",
   "id": "8c6b5f70e4bfc681"
  },
  {
   "metadata": {
    "ExecuteTime": {
     "end_time": "2025-05-29T06:53:52.630139Z",
     "start_time": "2025-05-29T06:53:52.545679Z"
    }
   },
   "cell_type": "code",
   "source": [
    "from langchain_groq import ChatGroq\n",
    "\n",
    "\n",
    "llm = ChatGroq(\n",
    "    temperature=0,\n",
    "    model_name=\"llama3-70b-8192\"\n",
    ")"
   ],
   "id": "f178cb949873a167",
   "outputs": [],
   "execution_count": 8
  },
  {
   "metadata": {},
   "cell_type": "markdown",
   "source": "Connecting the database to LLM",
   "id": "6a539659f9e7ca42"
  },
  {
   "metadata": {
    "ExecuteTime": {
     "end_time": "2025-05-29T06:53:52.703609Z",
     "start_time": "2025-05-29T06:53:52.656953Z"
    }
   },
   "cell_type": "code",
   "source": [
    "from langchain.sql_database import SQLDatabase\n",
    "from langchain.agents import create_sql_agent\n",
    "from langchain.agents.agent_toolkits import SQLDatabaseToolkit\n",
    "\n",
    "db = SQLDatabase.from_uri(\"sqlite:///example.db\")\n",
    "\n",
    "\n",
    "toolkit = SQLDatabaseToolkit(db=db, llm=llm)\n",
    "agent_executor = create_sql_agent(\n",
    "    llm=llm,\n",
    "    toolkit=toolkit,\n",
    ")\n"
   ],
   "id": "af9831b4b0e873f0",
   "outputs": [],
   "execution_count": 9
  },
  {
   "metadata": {},
   "cell_type": "markdown",
   "source": "Testing",
   "id": "78c3bacc1d66aa33"
  },
  {
   "metadata": {
    "ExecuteTime": {
     "end_time": "2025-05-29T06:55:32.005174Z",
     "start_time": "2025-05-29T06:53:52.763245Z"
    }
   },
   "cell_type": "code",
   "source": [
    "response = agent_executor.invoke(\"Who earns more than 100000?\")\n",
    "print(response)\n",
    "\n",
    "response = agent_executor.invoke(\"Show all employees who work in the Design department and earn more than 80000.\")\n",
    "print(response['output'])\n",
    "\n",
    "response = agent_executor.invoke(\"What is the average salary?\")\n",
    "print(response)\n",
    "\n",
    "print(response['output'])\n"
   ],
   "id": "e3827f19f4c311af",
   "outputs": [
    {
     "name": "stdout",
     "output_type": "stream",
     "text": [
      "{'input': 'Who earns more than 100000?', 'output': 'Alice and Charlie earn more than 100000.'}\n",
      "The employees who work in the Design department and earn more than 80000 are Bob with a salary of 90000 and Eva with a salary of 85000.\n"
     ]
    },
    {
     "ename": "ValueError",
     "evalue": "An output parsing error occurred. In order to pass this error back to the agent and have it try again, pass `handle_parsing_errors=True` to the AgentExecutor. This is the error: Could not parse LLM output: `I now know the final answer: The average salary is 111000.0.`\nFor troubleshooting, visit: https://python.langchain.com/docs/troubleshooting/errors/OUTPUT_PARSING_FAILURE ",
     "output_type": "error",
     "traceback": [
      "\u001B[31m---------------------------------------------------------------------------\u001B[39m",
      "\u001B[31mOutputParserException\u001B[39m                     Traceback (most recent call last)",
      "\u001B[36mFile \u001B[39m\u001B[32m~\\PycharmProjects\\venv_master\\Lib\\site-packages\\langchain\\agents\\agent.py:1354\u001B[39m, in \u001B[36mAgentExecutor._iter_next_step\u001B[39m\u001B[34m(self, name_to_tool_map, color_mapping, inputs, intermediate_steps, run_manager)\u001B[39m\n\u001B[32m   1353\u001B[39m     \u001B[38;5;66;03m# Call the LLM to see what to do.\u001B[39;00m\n\u001B[32m-> \u001B[39m\u001B[32m1354\u001B[39m     output = \u001B[38;5;28;43mself\u001B[39;49m\u001B[43m.\u001B[49m\u001B[43m_action_agent\u001B[49m\u001B[43m.\u001B[49m\u001B[43mplan\u001B[49m\u001B[43m(\u001B[49m\n\u001B[32m   1355\u001B[39m \u001B[43m        \u001B[49m\u001B[43mintermediate_steps\u001B[49m\u001B[43m,\u001B[49m\n\u001B[32m   1356\u001B[39m \u001B[43m        \u001B[49m\u001B[43mcallbacks\u001B[49m\u001B[43m=\u001B[49m\u001B[43mrun_manager\u001B[49m\u001B[43m.\u001B[49m\u001B[43mget_child\u001B[49m\u001B[43m(\u001B[49m\u001B[43m)\u001B[49m\u001B[43m \u001B[49m\u001B[38;5;28;43;01mif\u001B[39;49;00m\u001B[43m \u001B[49m\u001B[43mrun_manager\u001B[49m\u001B[43m \u001B[49m\u001B[38;5;28;43;01melse\u001B[39;49;00m\u001B[43m \u001B[49m\u001B[38;5;28;43;01mNone\u001B[39;49;00m\u001B[43m,\u001B[49m\n\u001B[32m   1357\u001B[39m \u001B[43m        \u001B[49m\u001B[43m*\u001B[49m\u001B[43m*\u001B[49m\u001B[43minputs\u001B[49m\u001B[43m,\u001B[49m\n\u001B[32m   1358\u001B[39m \u001B[43m    \u001B[49m\u001B[43m)\u001B[49m\n\u001B[32m   1359\u001B[39m \u001B[38;5;28;01mexcept\u001B[39;00m OutputParserException \u001B[38;5;28;01mas\u001B[39;00m e:\n",
      "\u001B[36mFile \u001B[39m\u001B[32m~\\PycharmProjects\\venv_master\\Lib\\site-packages\\langchain\\agents\\agent.py:461\u001B[39m, in \u001B[36mRunnableAgent.plan\u001B[39m\u001B[34m(self, intermediate_steps, callbacks, **kwargs)\u001B[39m\n\u001B[32m    454\u001B[39m \u001B[38;5;28;01mif\u001B[39;00m \u001B[38;5;28mself\u001B[39m.stream_runnable:\n\u001B[32m    455\u001B[39m     \u001B[38;5;66;03m# Use streaming to make sure that the underlying LLM is invoked in a\u001B[39;00m\n\u001B[32m    456\u001B[39m     \u001B[38;5;66;03m# streaming\u001B[39;00m\n\u001B[32m   (...)\u001B[39m\u001B[32m    459\u001B[39m     \u001B[38;5;66;03m# Because the response from the plan is not a generator, we need to\u001B[39;00m\n\u001B[32m    460\u001B[39m     \u001B[38;5;66;03m# accumulate the output into final output and return that.\u001B[39;00m\n\u001B[32m--> \u001B[39m\u001B[32m461\u001B[39m \u001B[43m    \u001B[49m\u001B[38;5;28;43;01mfor\u001B[39;49;00m\u001B[43m \u001B[49m\u001B[43mchunk\u001B[49m\u001B[43m \u001B[49m\u001B[38;5;129;43;01min\u001B[39;49;00m\u001B[43m \u001B[49m\u001B[38;5;28;43mself\u001B[39;49m\u001B[43m.\u001B[49m\u001B[43mrunnable\u001B[49m\u001B[43m.\u001B[49m\u001B[43mstream\u001B[49m\u001B[43m(\u001B[49m\u001B[43minputs\u001B[49m\u001B[43m,\u001B[49m\u001B[43m \u001B[49m\u001B[43mconfig\u001B[49m\u001B[43m=\u001B[49m\u001B[43m{\u001B[49m\u001B[33;43m\"\u001B[39;49m\u001B[33;43mcallbacks\u001B[39;49m\u001B[33;43m\"\u001B[39;49m\u001B[43m:\u001B[49m\u001B[43m \u001B[49m\u001B[43mcallbacks\u001B[49m\u001B[43m}\u001B[49m\u001B[43m)\u001B[49m\u001B[43m:\u001B[49m\n\u001B[32m    462\u001B[39m \u001B[43m        \u001B[49m\u001B[38;5;28;43;01mif\u001B[39;49;00m\u001B[43m \u001B[49m\u001B[43mfinal_output\u001B[49m\u001B[43m \u001B[49m\u001B[38;5;129;43;01mis\u001B[39;49;00m\u001B[43m \u001B[49m\u001B[38;5;28;43;01mNone\u001B[39;49;00m\u001B[43m:\u001B[49m\n",
      "\u001B[36mFile \u001B[39m\u001B[32m~\\PycharmProjects\\venv_master\\Lib\\site-packages\\langchain_core\\runnables\\base.py:3438\u001B[39m, in \u001B[36mRunnableSequence.stream\u001B[39m\u001B[34m(self, input, config, **kwargs)\u001B[39m\n\u001B[32m   3431\u001B[39m \u001B[38;5;129m@override\u001B[39m\n\u001B[32m   3432\u001B[39m \u001B[38;5;28;01mdef\u001B[39;00m \u001B[34mstream\u001B[39m(\n\u001B[32m   3433\u001B[39m     \u001B[38;5;28mself\u001B[39m,\n\u001B[32m   (...)\u001B[39m\u001B[32m   3436\u001B[39m     **kwargs: Optional[Any],\n\u001B[32m   3437\u001B[39m ) -> Iterator[Output]:\n\u001B[32m-> \u001B[39m\u001B[32m3438\u001B[39m     \u001B[38;5;28;01myield from\u001B[39;00m \u001B[38;5;28mself\u001B[39m.transform(\u001B[38;5;28miter\u001B[39m([\u001B[38;5;28minput\u001B[39m]), config, **kwargs)\n",
      "\u001B[36mFile \u001B[39m\u001B[32m~\\PycharmProjects\\venv_master\\Lib\\site-packages\\langchain_core\\runnables\\base.py:3424\u001B[39m, in \u001B[36mRunnableSequence.transform\u001B[39m\u001B[34m(self, input, config, **kwargs)\u001B[39m\n\u001B[32m   3417\u001B[39m \u001B[38;5;129m@override\u001B[39m\n\u001B[32m   3418\u001B[39m \u001B[38;5;28;01mdef\u001B[39;00m \u001B[34mtransform\u001B[39m(\n\u001B[32m   3419\u001B[39m     \u001B[38;5;28mself\u001B[39m,\n\u001B[32m   (...)\u001B[39m\u001B[32m   3422\u001B[39m     **kwargs: Optional[Any],\n\u001B[32m   3423\u001B[39m ) -> Iterator[Output]:\n\u001B[32m-> \u001B[39m\u001B[32m3424\u001B[39m     \u001B[38;5;28;01myield from\u001B[39;00m \u001B[38;5;28mself\u001B[39m._transform_stream_with_config(\n\u001B[32m   3425\u001B[39m         \u001B[38;5;28minput\u001B[39m,\n\u001B[32m   3426\u001B[39m         \u001B[38;5;28mself\u001B[39m._transform,\n\u001B[32m   3427\u001B[39m         patch_config(config, run_name=(config \u001B[38;5;129;01mor\u001B[39;00m {}).get(\u001B[33m\"\u001B[39m\u001B[33mrun_name\u001B[39m\u001B[33m\"\u001B[39m) \u001B[38;5;129;01mor\u001B[39;00m \u001B[38;5;28mself\u001B[39m.name),\n\u001B[32m   3428\u001B[39m         **kwargs,\n\u001B[32m   3429\u001B[39m     )\n",
      "\u001B[36mFile \u001B[39m\u001B[32m~\\PycharmProjects\\venv_master\\Lib\\site-packages\\langchain_core\\runnables\\base.py:2215\u001B[39m, in \u001B[36mRunnable._transform_stream_with_config\u001B[39m\u001B[34m(self, inputs, transformer, config, run_type, **kwargs)\u001B[39m\n\u001B[32m   2214\u001B[39m \u001B[38;5;28;01mwhile\u001B[39;00m \u001B[38;5;28;01mTrue\u001B[39;00m:\n\u001B[32m-> \u001B[39m\u001B[32m2215\u001B[39m     chunk: Output = context.run(\u001B[38;5;28mnext\u001B[39m, iterator)\n\u001B[32m   2216\u001B[39m     \u001B[38;5;28;01myield\u001B[39;00m chunk\n",
      "\u001B[36mFile \u001B[39m\u001B[32m~\\PycharmProjects\\venv_master\\Lib\\site-packages\\langchain_core\\runnables\\base.py:3386\u001B[39m, in \u001B[36mRunnableSequence._transform\u001B[39m\u001B[34m(self, inputs, run_manager, config, **kwargs)\u001B[39m\n\u001B[32m   3384\u001B[39m         final_pipeline = step.transform(final_pipeline, config)\n\u001B[32m-> \u001B[39m\u001B[32m3386\u001B[39m \u001B[38;5;28;01myield from\u001B[39;00m final_pipeline\n",
      "\u001B[36mFile \u001B[39m\u001B[32m~\\PycharmProjects\\venv_master\\Lib\\site-packages\\langchain_core\\runnables\\base.py:1447\u001B[39m, in \u001B[36mRunnable.transform\u001B[39m\u001B[34m(self, input, config, **kwargs)\u001B[39m\n\u001B[32m   1446\u001B[39m \u001B[38;5;28;01mif\u001B[39;00m got_first_val:\n\u001B[32m-> \u001B[39m\u001B[32m1447\u001B[39m     \u001B[38;5;28;01myield from\u001B[39;00m \u001B[38;5;28mself\u001B[39m.stream(final, config, **kwargs)\n",
      "\u001B[36mFile \u001B[39m\u001B[32m~\\PycharmProjects\\venv_master\\Lib\\site-packages\\langchain_core\\runnables\\base.py:1014\u001B[39m, in \u001B[36mRunnable.stream\u001B[39m\u001B[34m(self, input, config, **kwargs)\u001B[39m\n\u001B[32m   1002\u001B[39m \u001B[38;5;250m\u001B[39m\u001B[33;03m\"\"\"Default implementation of stream, which calls invoke.\u001B[39;00m\n\u001B[32m   1003\u001B[39m \n\u001B[32m   1004\u001B[39m \u001B[33;03mSubclasses should override this method if they support streaming output.\u001B[39;00m\n\u001B[32m   (...)\u001B[39m\u001B[32m   1012\u001B[39m \u001B[33;03m    The output of the Runnable.\u001B[39;00m\n\u001B[32m   1013\u001B[39m \u001B[33;03m\"\"\"\u001B[39;00m\n\u001B[32m-> \u001B[39m\u001B[32m1014\u001B[39m \u001B[38;5;28;01myield\u001B[39;00m \u001B[38;5;28;43mself\u001B[39;49m\u001B[43m.\u001B[49m\u001B[43minvoke\u001B[49m\u001B[43m(\u001B[49m\u001B[38;5;28;43minput\u001B[39;49m\u001B[43m,\u001B[49m\u001B[43m \u001B[49m\u001B[43mconfig\u001B[49m\u001B[43m,\u001B[49m\u001B[43m \u001B[49m\u001B[43m*\u001B[49m\u001B[43m*\u001B[49m\u001B[43mkwargs\u001B[49m\u001B[43m)\u001B[49m\n",
      "\u001B[36mFile \u001B[39m\u001B[32m~\\PycharmProjects\\venv_master\\Lib\\site-packages\\langchain_core\\output_parsers\\base.py:196\u001B[39m, in \u001B[36mBaseOutputParser.invoke\u001B[39m\u001B[34m(self, input, config, **kwargs)\u001B[39m\n\u001B[32m    195\u001B[39m \u001B[38;5;28;01mif\u001B[39;00m \u001B[38;5;28misinstance\u001B[39m(\u001B[38;5;28minput\u001B[39m, BaseMessage):\n\u001B[32m--> \u001B[39m\u001B[32m196\u001B[39m     \u001B[38;5;28;01mreturn\u001B[39;00m \u001B[38;5;28;43mself\u001B[39;49m\u001B[43m.\u001B[49m\u001B[43m_call_with_config\u001B[49m\u001B[43m(\u001B[49m\n\u001B[32m    197\u001B[39m \u001B[43m        \u001B[49m\u001B[38;5;28;43;01mlambda\u001B[39;49;00m\u001B[43m \u001B[49m\u001B[43minner_input\u001B[49m\u001B[43m:\u001B[49m\u001B[43m \u001B[49m\u001B[38;5;28;43mself\u001B[39;49m\u001B[43m.\u001B[49m\u001B[43mparse_result\u001B[49m\u001B[43m(\u001B[49m\n\u001B[32m    198\u001B[39m \u001B[43m            \u001B[49m\u001B[43m[\u001B[49m\u001B[43mChatGeneration\u001B[49m\u001B[43m(\u001B[49m\u001B[43mmessage\u001B[49m\u001B[43m=\u001B[49m\u001B[43minner_input\u001B[49m\u001B[43m)\u001B[49m\u001B[43m]\u001B[49m\n\u001B[32m    199\u001B[39m \u001B[43m        \u001B[49m\u001B[43m)\u001B[49m\u001B[43m,\u001B[49m\n\u001B[32m    200\u001B[39m \u001B[43m        \u001B[49m\u001B[38;5;28;43minput\u001B[39;49m\u001B[43m,\u001B[49m\n\u001B[32m    201\u001B[39m \u001B[43m        \u001B[49m\u001B[43mconfig\u001B[49m\u001B[43m,\u001B[49m\n\u001B[32m    202\u001B[39m \u001B[43m        \u001B[49m\u001B[43mrun_type\u001B[49m\u001B[43m=\u001B[49m\u001B[33;43m\"\u001B[39;49m\u001B[33;43mparser\u001B[39;49m\u001B[33;43m\"\u001B[39;49m\u001B[43m,\u001B[49m\n\u001B[32m    203\u001B[39m \u001B[43m    \u001B[49m\u001B[43m)\u001B[49m\n\u001B[32m    204\u001B[39m \u001B[38;5;28;01mreturn\u001B[39;00m \u001B[38;5;28mself\u001B[39m._call_with_config(\n\u001B[32m    205\u001B[39m     \u001B[38;5;28;01mlambda\u001B[39;00m inner_input: \u001B[38;5;28mself\u001B[39m.parse_result([Generation(text=inner_input)]),\n\u001B[32m    206\u001B[39m     \u001B[38;5;28minput\u001B[39m,\n\u001B[32m    207\u001B[39m     config,\n\u001B[32m    208\u001B[39m     run_type=\u001B[33m\"\u001B[39m\u001B[33mparser\u001B[39m\u001B[33m\"\u001B[39m,\n\u001B[32m    209\u001B[39m )\n",
      "\u001B[36mFile \u001B[39m\u001B[32m~\\PycharmProjects\\venv_master\\Lib\\site-packages\\langchain_core\\runnables\\base.py:1940\u001B[39m, in \u001B[36mRunnable._call_with_config\u001B[39m\u001B[34m(self, func, input_, config, run_type, serialized, **kwargs)\u001B[39m\n\u001B[32m   1937\u001B[39m     \u001B[38;5;28;01mwith\u001B[39;00m set_config_context(child_config) \u001B[38;5;28;01mas\u001B[39;00m context:\n\u001B[32m   1938\u001B[39m         output = cast(\n\u001B[32m   1939\u001B[39m             \u001B[33m\"\u001B[39m\u001B[33mOutput\u001B[39m\u001B[33m\"\u001B[39m,\n\u001B[32m-> \u001B[39m\u001B[32m1940\u001B[39m             \u001B[43mcontext\u001B[49m\u001B[43m.\u001B[49m\u001B[43mrun\u001B[49m\u001B[43m(\u001B[49m\n\u001B[32m   1941\u001B[39m \u001B[43m                \u001B[49m\u001B[43mcall_func_with_variable_args\u001B[49m\u001B[43m,\u001B[49m\u001B[43m  \u001B[49m\u001B[38;5;66;43;03m# type: ignore[arg-type]\u001B[39;49;00m\n\u001B[32m   1942\u001B[39m \u001B[43m                \u001B[49m\u001B[43mfunc\u001B[49m\u001B[43m,\u001B[49m\n\u001B[32m   1943\u001B[39m \u001B[43m                \u001B[49m\u001B[43minput_\u001B[49m\u001B[43m,\u001B[49m\n\u001B[32m   1944\u001B[39m \u001B[43m                \u001B[49m\u001B[43mconfig\u001B[49m\u001B[43m,\u001B[49m\n\u001B[32m   1945\u001B[39m \u001B[43m                \u001B[49m\u001B[43mrun_manager\u001B[49m\u001B[43m,\u001B[49m\n\u001B[32m   1946\u001B[39m \u001B[43m                \u001B[49m\u001B[43m*\u001B[49m\u001B[43m*\u001B[49m\u001B[43mkwargs\u001B[49m\u001B[43m,\u001B[49m\n\u001B[32m   1947\u001B[39m \u001B[43m            \u001B[49m\u001B[43m)\u001B[49m,\n\u001B[32m   1948\u001B[39m         )\n\u001B[32m   1949\u001B[39m \u001B[38;5;28;01mexcept\u001B[39;00m \u001B[38;5;167;01mBaseException\u001B[39;00m \u001B[38;5;28;01mas\u001B[39;00m e:\n",
      "\u001B[36mFile \u001B[39m\u001B[32m~\\PycharmProjects\\venv_master\\Lib\\site-packages\\langchain_core\\runnables\\config.py:428\u001B[39m, in \u001B[36mcall_func_with_variable_args\u001B[39m\u001B[34m(func, input, config, run_manager, **kwargs)\u001B[39m\n\u001B[32m    427\u001B[39m     kwargs[\u001B[33m\"\u001B[39m\u001B[33mrun_manager\u001B[39m\u001B[33m\"\u001B[39m] = run_manager\n\u001B[32m--> \u001B[39m\u001B[32m428\u001B[39m \u001B[38;5;28;01mreturn\u001B[39;00m \u001B[43mfunc\u001B[49m\u001B[43m(\u001B[49m\u001B[38;5;28;43minput\u001B[39;49m\u001B[43m,\u001B[49m\u001B[43m \u001B[49m\u001B[43m*\u001B[49m\u001B[43m*\u001B[49m\u001B[43mkwargs\u001B[49m\u001B[43m)\u001B[49m\n",
      "\u001B[36mFile \u001B[39m\u001B[32m~\\PycharmProjects\\venv_master\\Lib\\site-packages\\langchain_core\\output_parsers\\base.py:197\u001B[39m, in \u001B[36mBaseOutputParser.invoke.<locals>.<lambda>\u001B[39m\u001B[34m(inner_input)\u001B[39m\n\u001B[32m    195\u001B[39m \u001B[38;5;28;01mif\u001B[39;00m \u001B[38;5;28misinstance\u001B[39m(\u001B[38;5;28minput\u001B[39m, BaseMessage):\n\u001B[32m    196\u001B[39m     \u001B[38;5;28;01mreturn\u001B[39;00m \u001B[38;5;28mself\u001B[39m._call_with_config(\n\u001B[32m--> \u001B[39m\u001B[32m197\u001B[39m         \u001B[38;5;28;01mlambda\u001B[39;00m inner_input: \u001B[38;5;28;43mself\u001B[39;49m\u001B[43m.\u001B[49m\u001B[43mparse_result\u001B[49m\u001B[43m(\u001B[49m\n\u001B[32m    198\u001B[39m \u001B[43m            \u001B[49m\u001B[43m[\u001B[49m\u001B[43mChatGeneration\u001B[49m\u001B[43m(\u001B[49m\u001B[43mmessage\u001B[49m\u001B[43m=\u001B[49m\u001B[43minner_input\u001B[49m\u001B[43m)\u001B[49m\u001B[43m]\u001B[49m\n\u001B[32m    199\u001B[39m \u001B[43m        \u001B[49m\u001B[43m)\u001B[49m,\n\u001B[32m    200\u001B[39m         \u001B[38;5;28minput\u001B[39m,\n\u001B[32m    201\u001B[39m         config,\n\u001B[32m    202\u001B[39m         run_type=\u001B[33m\"\u001B[39m\u001B[33mparser\u001B[39m\u001B[33m\"\u001B[39m,\n\u001B[32m    203\u001B[39m     )\n\u001B[32m    204\u001B[39m \u001B[38;5;28;01mreturn\u001B[39;00m \u001B[38;5;28mself\u001B[39m._call_with_config(\n\u001B[32m    205\u001B[39m     \u001B[38;5;28;01mlambda\u001B[39;00m inner_input: \u001B[38;5;28mself\u001B[39m.parse_result([Generation(text=inner_input)]),\n\u001B[32m    206\u001B[39m     \u001B[38;5;28minput\u001B[39m,\n\u001B[32m    207\u001B[39m     config,\n\u001B[32m    208\u001B[39m     run_type=\u001B[33m\"\u001B[39m\u001B[33mparser\u001B[39m\u001B[33m\"\u001B[39m,\n\u001B[32m    209\u001B[39m )\n",
      "\u001B[36mFile \u001B[39m\u001B[32m~\\PycharmProjects\\venv_master\\Lib\\site-packages\\langchain_core\\output_parsers\\base.py:250\u001B[39m, in \u001B[36mBaseOutputParser.parse_result\u001B[39m\u001B[34m(self, result, partial)\u001B[39m\n\u001B[32m    236\u001B[39m \u001B[38;5;250m\u001B[39m\u001B[33;03m\"\"\"Parse a list of candidate model Generations into a specific format.\u001B[39;00m\n\u001B[32m    237\u001B[39m \n\u001B[32m    238\u001B[39m \u001B[33;03mThe return value is parsed from only the first Generation in the result, which\u001B[39;00m\n\u001B[32m   (...)\u001B[39m\u001B[32m    248\u001B[39m \u001B[33;03m    Structured output.\u001B[39;00m\n\u001B[32m    249\u001B[39m \u001B[33;03m\"\"\"\u001B[39;00m\n\u001B[32m--> \u001B[39m\u001B[32m250\u001B[39m \u001B[38;5;28;01mreturn\u001B[39;00m \u001B[38;5;28;43mself\u001B[39;49m\u001B[43m.\u001B[49m\u001B[43mparse\u001B[49m\u001B[43m(\u001B[49m\u001B[43mresult\u001B[49m\u001B[43m[\u001B[49m\u001B[32;43m0\u001B[39;49m\u001B[43m]\u001B[49m\u001B[43m.\u001B[49m\u001B[43mtext\u001B[49m\u001B[43m)\u001B[49m\n",
      "\u001B[36mFile \u001B[39m\u001B[32m~\\PycharmProjects\\venv_master\\Lib\\site-packages\\langchain\\agents\\output_parsers\\react_single_input.py:75\u001B[39m, in \u001B[36mReActSingleInputOutputParser.parse\u001B[39m\u001B[34m(self, text)\u001B[39m\n\u001B[32m     74\u001B[39m \u001B[38;5;28;01mif\u001B[39;00m \u001B[38;5;129;01mnot\u001B[39;00m re.search(\u001B[33mr\u001B[39m\u001B[33m\"\u001B[39m\u001B[33mAction\u001B[39m\u001B[33m\\\u001B[39m\u001B[33ms*\u001B[39m\u001B[33m\\\u001B[39m\u001B[33md*\u001B[39m\u001B[33m\\\u001B[39m\u001B[33ms*:[\u001B[39m\u001B[33m\\\u001B[39m\u001B[33ms]*(.*?)\u001B[39m\u001B[33m\"\u001B[39m, text, re.DOTALL):\n\u001B[32m---> \u001B[39m\u001B[32m75\u001B[39m     \u001B[38;5;28;01mraise\u001B[39;00m OutputParserException(\n\u001B[32m     76\u001B[39m         \u001B[33mf\u001B[39m\u001B[33m\"\u001B[39m\u001B[33mCould not parse LLM output: `\u001B[39m\u001B[38;5;132;01m{\u001B[39;00mtext\u001B[38;5;132;01m}\u001B[39;00m\u001B[33m`\u001B[39m\u001B[33m\"\u001B[39m,\n\u001B[32m     77\u001B[39m         observation=MISSING_ACTION_AFTER_THOUGHT_ERROR_MESSAGE,\n\u001B[32m     78\u001B[39m         llm_output=text,\n\u001B[32m     79\u001B[39m         send_to_llm=\u001B[38;5;28;01mTrue\u001B[39;00m,\n\u001B[32m     80\u001B[39m     )\n\u001B[32m     81\u001B[39m \u001B[38;5;28;01melif\u001B[39;00m \u001B[38;5;129;01mnot\u001B[39;00m re.search(\n\u001B[32m     82\u001B[39m     \u001B[33mr\u001B[39m\u001B[33m\"\u001B[39m\u001B[33m[\u001B[39m\u001B[33m\\\u001B[39m\u001B[33ms]*Action\u001B[39m\u001B[33m\\\u001B[39m\u001B[33ms*\u001B[39m\u001B[33m\\\u001B[39m\u001B[33md*\u001B[39m\u001B[33m\\\u001B[39m\u001B[33ms*Input\u001B[39m\u001B[33m\\\u001B[39m\u001B[33ms*\u001B[39m\u001B[33m\\\u001B[39m\u001B[33md*\u001B[39m\u001B[33m\\\u001B[39m\u001B[33ms*:[\u001B[39m\u001B[33m\\\u001B[39m\u001B[33ms]*(.*)\u001B[39m\u001B[33m\"\u001B[39m, text, re.DOTALL\n\u001B[32m     83\u001B[39m ):\n",
      "\u001B[31mOutputParserException\u001B[39m: Could not parse LLM output: `I now know the final answer: The average salary is 111000.0.`\nFor troubleshooting, visit: https://python.langchain.com/docs/troubleshooting/errors/OUTPUT_PARSING_FAILURE ",
      "\nDuring handling of the above exception, another exception occurred:\n",
      "\u001B[31mValueError\u001B[39m                                Traceback (most recent call last)",
      "\u001B[36mCell\u001B[39m\u001B[36m \u001B[39m\u001B[32mIn[10]\u001B[39m\u001B[32m, line 7\u001B[39m\n\u001B[32m      4\u001B[39m response = agent_executor.invoke(\u001B[33m\"\u001B[39m\u001B[33mShow all employees who work in the Design department and earn more than 80000.\u001B[39m\u001B[33m\"\u001B[39m)\n\u001B[32m      5\u001B[39m \u001B[38;5;28mprint\u001B[39m(response[\u001B[33m'\u001B[39m\u001B[33moutput\u001B[39m\u001B[33m'\u001B[39m])\n\u001B[32m----> \u001B[39m\u001B[32m7\u001B[39m response = \u001B[43magent_executor\u001B[49m\u001B[43m.\u001B[49m\u001B[43minvoke\u001B[49m\u001B[43m(\u001B[49m\u001B[33;43m\"\u001B[39;49m\u001B[33;43mWhat is the average salary?\u001B[39;49m\u001B[33;43m\"\u001B[39;49m\u001B[43m)\u001B[49m\n\u001B[32m      8\u001B[39m \u001B[38;5;28mprint\u001B[39m(response)\n\u001B[32m     10\u001B[39m \u001B[38;5;28mprint\u001B[39m(response[\u001B[33m'\u001B[39m\u001B[33moutput\u001B[39m\u001B[33m'\u001B[39m])\n",
      "\u001B[36mFile \u001B[39m\u001B[32m~\\PycharmProjects\\venv_master\\Lib\\site-packages\\langchain\\chains\\base.py:167\u001B[39m, in \u001B[36mChain.invoke\u001B[39m\u001B[34m(self, input, config, **kwargs)\u001B[39m\n\u001B[32m    165\u001B[39m \u001B[38;5;28;01mexcept\u001B[39;00m \u001B[38;5;167;01mBaseException\u001B[39;00m \u001B[38;5;28;01mas\u001B[39;00m e:\n\u001B[32m    166\u001B[39m     run_manager.on_chain_error(e)\n\u001B[32m--> \u001B[39m\u001B[32m167\u001B[39m     \u001B[38;5;28;01mraise\u001B[39;00m e\n\u001B[32m    168\u001B[39m run_manager.on_chain_end(outputs)\n\u001B[32m    170\u001B[39m \u001B[38;5;28;01mif\u001B[39;00m include_run_info:\n",
      "\u001B[36mFile \u001B[39m\u001B[32m~\\PycharmProjects\\venv_master\\Lib\\site-packages\\langchain\\chains\\base.py:157\u001B[39m, in \u001B[36mChain.invoke\u001B[39m\u001B[34m(self, input, config, **kwargs)\u001B[39m\n\u001B[32m    154\u001B[39m \u001B[38;5;28;01mtry\u001B[39;00m:\n\u001B[32m    155\u001B[39m     \u001B[38;5;28mself\u001B[39m._validate_inputs(inputs)\n\u001B[32m    156\u001B[39m     outputs = (\n\u001B[32m--> \u001B[39m\u001B[32m157\u001B[39m         \u001B[38;5;28;43mself\u001B[39;49m\u001B[43m.\u001B[49m\u001B[43m_call\u001B[49m\u001B[43m(\u001B[49m\u001B[43minputs\u001B[49m\u001B[43m,\u001B[49m\u001B[43m \u001B[49m\u001B[43mrun_manager\u001B[49m\u001B[43m=\u001B[49m\u001B[43mrun_manager\u001B[49m\u001B[43m)\u001B[49m\n\u001B[32m    158\u001B[39m         \u001B[38;5;28;01mif\u001B[39;00m new_arg_supported\n\u001B[32m    159\u001B[39m         \u001B[38;5;28;01melse\u001B[39;00m \u001B[38;5;28mself\u001B[39m._call(inputs)\n\u001B[32m    160\u001B[39m     )\n\u001B[32m    162\u001B[39m     final_outputs: \u001B[38;5;28mdict\u001B[39m[\u001B[38;5;28mstr\u001B[39m, Any] = \u001B[38;5;28mself\u001B[39m.prep_outputs(\n\u001B[32m    163\u001B[39m         inputs, outputs, return_only_outputs\n\u001B[32m    164\u001B[39m     )\n\u001B[32m    165\u001B[39m \u001B[38;5;28;01mexcept\u001B[39;00m \u001B[38;5;167;01mBaseException\u001B[39;00m \u001B[38;5;28;01mas\u001B[39;00m e:\n",
      "\u001B[36mFile \u001B[39m\u001B[32m~\\PycharmProjects\\venv_master\\Lib\\site-packages\\langchain\\agents\\agent.py:1620\u001B[39m, in \u001B[36mAgentExecutor._call\u001B[39m\u001B[34m(self, inputs, run_manager)\u001B[39m\n\u001B[32m   1618\u001B[39m \u001B[38;5;66;03m# We now enter the agent loop (until it returns something).\u001B[39;00m\n\u001B[32m   1619\u001B[39m \u001B[38;5;28;01mwhile\u001B[39;00m \u001B[38;5;28mself\u001B[39m._should_continue(iterations, time_elapsed):\n\u001B[32m-> \u001B[39m\u001B[32m1620\u001B[39m     next_step_output = \u001B[38;5;28;43mself\u001B[39;49m\u001B[43m.\u001B[49m\u001B[43m_take_next_step\u001B[49m\u001B[43m(\u001B[49m\n\u001B[32m   1621\u001B[39m \u001B[43m        \u001B[49m\u001B[43mname_to_tool_map\u001B[49m\u001B[43m,\u001B[49m\n\u001B[32m   1622\u001B[39m \u001B[43m        \u001B[49m\u001B[43mcolor_mapping\u001B[49m\u001B[43m,\u001B[49m\n\u001B[32m   1623\u001B[39m \u001B[43m        \u001B[49m\u001B[43minputs\u001B[49m\u001B[43m,\u001B[49m\n\u001B[32m   1624\u001B[39m \u001B[43m        \u001B[49m\u001B[43mintermediate_steps\u001B[49m\u001B[43m,\u001B[49m\n\u001B[32m   1625\u001B[39m \u001B[43m        \u001B[49m\u001B[43mrun_manager\u001B[49m\u001B[43m=\u001B[49m\u001B[43mrun_manager\u001B[49m\u001B[43m,\u001B[49m\n\u001B[32m   1626\u001B[39m \u001B[43m    \u001B[49m\u001B[43m)\u001B[49m\n\u001B[32m   1627\u001B[39m     \u001B[38;5;28;01mif\u001B[39;00m \u001B[38;5;28misinstance\u001B[39m(next_step_output, AgentFinish):\n\u001B[32m   1628\u001B[39m         \u001B[38;5;28;01mreturn\u001B[39;00m \u001B[38;5;28mself\u001B[39m._return(\n\u001B[32m   1629\u001B[39m             next_step_output, intermediate_steps, run_manager=run_manager\n\u001B[32m   1630\u001B[39m         )\n",
      "\u001B[36mFile \u001B[39m\u001B[32m~\\PycharmProjects\\venv_master\\Lib\\site-packages\\langchain\\agents\\agent.py:1326\u001B[39m, in \u001B[36mAgentExecutor._take_next_step\u001B[39m\u001B[34m(self, name_to_tool_map, color_mapping, inputs, intermediate_steps, run_manager)\u001B[39m\n\u001B[32m   1317\u001B[39m \u001B[38;5;28;01mdef\u001B[39;00m \u001B[34m_take_next_step\u001B[39m(\n\u001B[32m   1318\u001B[39m     \u001B[38;5;28mself\u001B[39m,\n\u001B[32m   1319\u001B[39m     name_to_tool_map: \u001B[38;5;28mdict\u001B[39m[\u001B[38;5;28mstr\u001B[39m, BaseTool],\n\u001B[32m   (...)\u001B[39m\u001B[32m   1323\u001B[39m     run_manager: Optional[CallbackManagerForChainRun] = \u001B[38;5;28;01mNone\u001B[39;00m,\n\u001B[32m   1324\u001B[39m ) -> Union[AgentFinish, \u001B[38;5;28mlist\u001B[39m[\u001B[38;5;28mtuple\u001B[39m[AgentAction, \u001B[38;5;28mstr\u001B[39m]]]:\n\u001B[32m   1325\u001B[39m     \u001B[38;5;28;01mreturn\u001B[39;00m \u001B[38;5;28mself\u001B[39m._consume_next_step(\n\u001B[32m-> \u001B[39m\u001B[32m1326\u001B[39m         \u001B[43m[\u001B[49m\n\u001B[32m   1327\u001B[39m \u001B[43m            \u001B[49m\u001B[43ma\u001B[49m\n\u001B[32m   1328\u001B[39m \u001B[43m            \u001B[49m\u001B[38;5;28;43;01mfor\u001B[39;49;00m\u001B[43m \u001B[49m\u001B[43ma\u001B[49m\u001B[43m \u001B[49m\u001B[38;5;129;43;01min\u001B[39;49;00m\u001B[43m \u001B[49m\u001B[38;5;28;43mself\u001B[39;49m\u001B[43m.\u001B[49m\u001B[43m_iter_next_step\u001B[49m\u001B[43m(\u001B[49m\n\u001B[32m   1329\u001B[39m \u001B[43m                \u001B[49m\u001B[43mname_to_tool_map\u001B[49m\u001B[43m,\u001B[49m\n\u001B[32m   1330\u001B[39m \u001B[43m                \u001B[49m\u001B[43mcolor_mapping\u001B[49m\u001B[43m,\u001B[49m\n\u001B[32m   1331\u001B[39m \u001B[43m                \u001B[49m\u001B[43minputs\u001B[49m\u001B[43m,\u001B[49m\n\u001B[32m   1332\u001B[39m \u001B[43m                \u001B[49m\u001B[43mintermediate_steps\u001B[49m\u001B[43m,\u001B[49m\n\u001B[32m   1333\u001B[39m \u001B[43m                \u001B[49m\u001B[43mrun_manager\u001B[49m\u001B[43m,\u001B[49m\n\u001B[32m   1334\u001B[39m \u001B[43m            \u001B[49m\u001B[43m)\u001B[49m\n\u001B[32m   1335\u001B[39m \u001B[43m        \u001B[49m\u001B[43m]\u001B[49m\n\u001B[32m   1336\u001B[39m     )\n",
      "\u001B[36mFile \u001B[39m\u001B[32m~\\PycharmProjects\\venv_master\\Lib\\site-packages\\langchain\\agents\\agent.py:1326\u001B[39m, in \u001B[36m<listcomp>\u001B[39m\u001B[34m(.0)\u001B[39m\n\u001B[32m   1317\u001B[39m \u001B[38;5;28;01mdef\u001B[39;00m \u001B[34m_take_next_step\u001B[39m(\n\u001B[32m   1318\u001B[39m     \u001B[38;5;28mself\u001B[39m,\n\u001B[32m   1319\u001B[39m     name_to_tool_map: \u001B[38;5;28mdict\u001B[39m[\u001B[38;5;28mstr\u001B[39m, BaseTool],\n\u001B[32m   (...)\u001B[39m\u001B[32m   1323\u001B[39m     run_manager: Optional[CallbackManagerForChainRun] = \u001B[38;5;28;01mNone\u001B[39;00m,\n\u001B[32m   1324\u001B[39m ) -> Union[AgentFinish, \u001B[38;5;28mlist\u001B[39m[\u001B[38;5;28mtuple\u001B[39m[AgentAction, \u001B[38;5;28mstr\u001B[39m]]]:\n\u001B[32m   1325\u001B[39m     \u001B[38;5;28;01mreturn\u001B[39;00m \u001B[38;5;28mself\u001B[39m._consume_next_step(\n\u001B[32m-> \u001B[39m\u001B[32m1326\u001B[39m         \u001B[43m[\u001B[49m\n\u001B[32m   1327\u001B[39m \u001B[43m            \u001B[49m\u001B[43ma\u001B[49m\n\u001B[32m   1328\u001B[39m \u001B[43m            \u001B[49m\u001B[38;5;28;43;01mfor\u001B[39;49;00m\u001B[43m \u001B[49m\u001B[43ma\u001B[49m\u001B[43m \u001B[49m\u001B[38;5;129;43;01min\u001B[39;49;00m\u001B[43m \u001B[49m\u001B[38;5;28;43mself\u001B[39;49m\u001B[43m.\u001B[49m\u001B[43m_iter_next_step\u001B[49m\u001B[43m(\u001B[49m\n\u001B[32m   1329\u001B[39m \u001B[43m                \u001B[49m\u001B[43mname_to_tool_map\u001B[49m\u001B[43m,\u001B[49m\n\u001B[32m   1330\u001B[39m \u001B[43m                \u001B[49m\u001B[43mcolor_mapping\u001B[49m\u001B[43m,\u001B[49m\n\u001B[32m   1331\u001B[39m \u001B[43m                \u001B[49m\u001B[43minputs\u001B[49m\u001B[43m,\u001B[49m\n\u001B[32m   1332\u001B[39m \u001B[43m                \u001B[49m\u001B[43mintermediate_steps\u001B[49m\u001B[43m,\u001B[49m\n\u001B[32m   1333\u001B[39m \u001B[43m                \u001B[49m\u001B[43mrun_manager\u001B[49m\u001B[43m,\u001B[49m\n\u001B[32m   1334\u001B[39m \u001B[43m            \u001B[49m\u001B[43m)\u001B[49m\n\u001B[32m   1335\u001B[39m \u001B[43m        \u001B[49m\u001B[43m]\u001B[49m\n\u001B[32m   1336\u001B[39m     )\n",
      "\u001B[36mFile \u001B[39m\u001B[32m~\\PycharmProjects\\venv_master\\Lib\\site-packages\\langchain\\agents\\agent.py:1365\u001B[39m, in \u001B[36mAgentExecutor._iter_next_step\u001B[39m\u001B[34m(self, name_to_tool_map, color_mapping, inputs, intermediate_steps, run_manager)\u001B[39m\n\u001B[32m   1363\u001B[39m     raise_error = \u001B[38;5;28;01mFalse\u001B[39;00m\n\u001B[32m   1364\u001B[39m \u001B[38;5;28;01mif\u001B[39;00m raise_error:\n\u001B[32m-> \u001B[39m\u001B[32m1365\u001B[39m     \u001B[38;5;28;01mraise\u001B[39;00m \u001B[38;5;167;01mValueError\u001B[39;00m(\n\u001B[32m   1366\u001B[39m         \u001B[33m\"\u001B[39m\u001B[33mAn output parsing error occurred. \u001B[39m\u001B[33m\"\u001B[39m\n\u001B[32m   1367\u001B[39m         \u001B[33m\"\u001B[39m\u001B[33mIn order to pass this error back to the agent and have it try \u001B[39m\u001B[33m\"\u001B[39m\n\u001B[32m   1368\u001B[39m         \u001B[33m\"\u001B[39m\u001B[33magain, pass `handle_parsing_errors=True` to the AgentExecutor. \u001B[39m\u001B[33m\"\u001B[39m\n\u001B[32m   1369\u001B[39m         \u001B[33mf\u001B[39m\u001B[33m\"\u001B[39m\u001B[33mThis is the error: \u001B[39m\u001B[38;5;132;01m{\u001B[39;00m\u001B[38;5;28mstr\u001B[39m(e)\u001B[38;5;132;01m}\u001B[39;00m\u001B[33m\"\u001B[39m\n\u001B[32m   1370\u001B[39m     )\n\u001B[32m   1371\u001B[39m text = \u001B[38;5;28mstr\u001B[39m(e)\n\u001B[32m   1372\u001B[39m \u001B[38;5;28;01mif\u001B[39;00m \u001B[38;5;28misinstance\u001B[39m(\u001B[38;5;28mself\u001B[39m.handle_parsing_errors, \u001B[38;5;28mbool\u001B[39m):\n",
      "\u001B[31mValueError\u001B[39m: An output parsing error occurred. In order to pass this error back to the agent and have it try again, pass `handle_parsing_errors=True` to the AgentExecutor. This is the error: Could not parse LLM output: `I now know the final answer: The average salary is 111000.0.`\nFor troubleshooting, visit: https://python.langchain.com/docs/troubleshooting/errors/OUTPUT_PARSING_FAILURE "
     ]
    }
   ],
   "execution_count": 10
  }
 ],
 "metadata": {
  "kernelspec": {
   "display_name": "Python 3",
   "language": "python",
   "name": "python3"
  },
  "language_info": {
   "codemirror_mode": {
    "name": "ipython",
    "version": 2
   },
   "file_extension": ".py",
   "mimetype": "text/x-python",
   "name": "python",
   "nbconvert_exporter": "python",
   "pygments_lexer": "ipython2",
   "version": "2.7.6"
  }
 },
 "nbformat": 4,
 "nbformat_minor": 5
}
