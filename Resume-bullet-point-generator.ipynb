{
 "cells": [
  {
   "metadata": {},
   "cell_type": "markdown",
   "source": [
    "Resume bullet point generator.\n",
    "Input: role and achievements → Output: formatted, impactful resume bullet."
   ],
   "id": "f59b98dbb7a915b3"
  },
  {
   "metadata": {},
   "cell_type": "markdown",
   "source": "Groq API key",
   "id": "81a52e7b14401f6d"
  },
  {
   "cell_type": "code",
   "id": "initial_id",
   "metadata": {
    "collapsed": true,
    "ExecuteTime": {
     "end_time": "2025-05-29T06:54:08.102821Z",
     "start_time": "2025-05-29T06:54:08.066079Z"
    }
   },
   "source": [
    "import os\n",
    "from dotenv import load_dotenv\n",
    "load_dotenv()\n",
    "groq = os.getenv(\"GROQ_API_KEY\")\n"
   ],
   "outputs": [],
   "execution_count": 1
  },
  {
   "metadata": {},
   "cell_type": "markdown",
   "source": "Importing the prompt chain and groq",
   "id": "4100fab3d2c09133"
  },
  {
   "metadata": {
    "ExecuteTime": {
     "end_time": "2025-05-29T06:54:11.342577Z",
     "start_time": "2025-05-29T06:54:09.456675Z"
    }
   },
   "cell_type": "code",
   "source": [
    "from langchain.prompts import PromptTemplate\n",
    "from langchain_groq import ChatGroq\n",
    "from langchain.chains import LLMChain"
   ],
   "id": "4592dc5433d9a8e5",
   "outputs": [],
   "execution_count": 2
  },
  {
   "metadata": {},
   "cell_type": "markdown",
   "source": "Initializing the LLM",
   "id": "ce064c8d0b009445"
  },
  {
   "metadata": {
    "ExecuteTime": {
     "end_time": "2025-05-29T06:54:11.897286Z",
     "start_time": "2025-05-29T06:54:11.361370Z"
    }
   },
   "cell_type": "code",
   "source": [
    "llm = ChatGroq(temperature=0.5\n",
    "               , model_name=\"llama3-70b-8192\")"
   ],
   "id": "f5f52fe6341188cf",
   "outputs": [],
   "execution_count": 3
  },
  {
   "metadata": {},
   "cell_type": "markdown",
   "source": "Giving the prompt",
   "id": "d5ecbd501e9ca5a7"
  },
  {
   "metadata": {},
   "cell_type": "markdown",
   "source": "",
   "id": "94ca1655e69fb28d"
  },
  {
   "metadata": {
    "ExecuteTime": {
     "end_time": "2025-05-29T06:54:11.939777Z",
     "start_time": "2025-05-29T06:54:11.930127Z"
    }
   },
   "cell_type": "code",
   "source": [
    "prompt = PromptTemplate(\n",
    "    input_variables=[\"role\", \"achievement\"],\n",
    "    template=\"\"\"\n",
    "You are an expert resume writer. Based on the user's role and achievement, write a single impactful resume bullet point using action verbs and metrics where possible.\n",
    "\n",
    "Role: {role}\n",
    "Achievement: {achievement}\n",
    "\n",
    "Resume Bullet:\n",
    "-\n",
    "\"\"\",\n",
    ")"
   ],
   "id": "2efe4e8f71a133ae",
   "outputs": [],
   "execution_count": 4
  },
  {
   "metadata": {},
   "cell_type": "markdown",
   "source": "Formatting the input",
   "id": "d07cd8d35e84ceb8"
  },
  {
   "metadata": {
    "ExecuteTime": {
     "end_time": "2025-05-29T06:54:12.079646Z",
     "start_time": "2025-05-29T06:54:12.071409Z"
    }
   },
   "cell_type": "code",
   "source": "chain = LLMChain(llm=llm, prompt=prompt)",
   "id": "a139612eb7ef493b",
   "outputs": [
    {
     "name": "stderr",
     "output_type": "stream",
     "text": [
      "C:\\Users\\sayhe\\AppData\\Local\\Temp\\ipykernel_26164\\1929250370.py:1: LangChainDeprecationWarning: The class `LLMChain` was deprecated in LangChain 0.1.17 and will be removed in 1.0. Use :meth:`~RunnableSequence, e.g., `prompt | llm`` instead.\n",
      "  chain = LLMChain(llm=llm, prompt=prompt)\n"
     ]
    }
   ],
   "execution_count": 5
  },
  {
   "metadata": {},
   "cell_type": "markdown",
   "source": "Input\n",
   "id": "722817a8f0346844"
  },
  {
   "metadata": {
    "ExecuteTime": {
     "end_time": "2025-05-29T06:54:17.645856Z",
     "start_time": "2025-05-29T06:54:12.203483Z"
    }
   },
   "cell_type": "code",
   "source": [
    "role = input(\"Enter your role : \")\n",
    "achievement  = input(\"Enter your achievement : \")\n",
    "\n",
    "\n",
    "response = chain.invoke({\n",
    "    \"role\" : role,\n",
    "    \"achievement\" : achievement\n",
    "})\n",
    "\n",
    "print(response[\"text\"])"
   ],
   "id": "5e36f7af313e56ff",
   "outputs": [
    {
     "ename": "KeyboardInterrupt",
     "evalue": "Interrupted by user",
     "output_type": "error",
     "traceback": [
      "\u001B[31m---------------------------------------------------------------------------\u001B[39m",
      "\u001B[31mKeyboardInterrupt\u001B[39m                         Traceback (most recent call last)",
      "\u001B[36mCell\u001B[39m\u001B[36m \u001B[39m\u001B[32mIn[6]\u001B[39m\u001B[32m, line 1\u001B[39m\n\u001B[32m----> \u001B[39m\u001B[32m1\u001B[39m role = \u001B[38;5;28;43minput\u001B[39;49m\u001B[43m(\u001B[49m\u001B[33;43m\"\u001B[39;49m\u001B[33;43mEnter your role : \u001B[39;49m\u001B[33;43m\"\u001B[39;49m\u001B[43m)\u001B[49m\n\u001B[32m      2\u001B[39m achievement  = \u001B[38;5;28minput\u001B[39m(\u001B[33m\"\u001B[39m\u001B[33mEnter your achievement : \u001B[39m\u001B[33m\"\u001B[39m)\n\u001B[32m      5\u001B[39m response = chain.invoke({\n\u001B[32m      6\u001B[39m     \u001B[33m\"\u001B[39m\u001B[33mrole\u001B[39m\u001B[33m\"\u001B[39m : role,\n\u001B[32m      7\u001B[39m     \u001B[33m\"\u001B[39m\u001B[33machievement\u001B[39m\u001B[33m\"\u001B[39m : achievement\n\u001B[32m      8\u001B[39m })\n",
      "\u001B[36mFile \u001B[39m\u001B[32m~\\PycharmProjects\\venv_master\\Lib\\site-packages\\ipykernel\\kernelbase.py:1282\u001B[39m, in \u001B[36mKernel.raw_input\u001B[39m\u001B[34m(self, prompt)\u001B[39m\n\u001B[32m   1280\u001B[39m     msg = \u001B[33m\"\u001B[39m\u001B[33mraw_input was called, but this frontend does not support input requests.\u001B[39m\u001B[33m\"\u001B[39m\n\u001B[32m   1281\u001B[39m     \u001B[38;5;28;01mraise\u001B[39;00m StdinNotImplementedError(msg)\n\u001B[32m-> \u001B[39m\u001B[32m1282\u001B[39m \u001B[38;5;28;01mreturn\u001B[39;00m \u001B[38;5;28;43mself\u001B[39;49m\u001B[43m.\u001B[49m\u001B[43m_input_request\u001B[49m\u001B[43m(\u001B[49m\n\u001B[32m   1283\u001B[39m \u001B[43m    \u001B[49m\u001B[38;5;28;43mstr\u001B[39;49m\u001B[43m(\u001B[49m\u001B[43mprompt\u001B[49m\u001B[43m)\u001B[49m\u001B[43m,\u001B[49m\n\u001B[32m   1284\u001B[39m \u001B[43m    \u001B[49m\u001B[38;5;28;43mself\u001B[39;49m\u001B[43m.\u001B[49m\u001B[43m_parent_ident\u001B[49m\u001B[43m[\u001B[49m\u001B[33;43m\"\u001B[39;49m\u001B[33;43mshell\u001B[39;49m\u001B[33;43m\"\u001B[39;49m\u001B[43m]\u001B[49m\u001B[43m,\u001B[49m\n\u001B[32m   1285\u001B[39m \u001B[43m    \u001B[49m\u001B[38;5;28;43mself\u001B[39;49m\u001B[43m.\u001B[49m\u001B[43mget_parent\u001B[49m\u001B[43m(\u001B[49m\u001B[33;43m\"\u001B[39;49m\u001B[33;43mshell\u001B[39;49m\u001B[33;43m\"\u001B[39;49m\u001B[43m)\u001B[49m\u001B[43m,\u001B[49m\n\u001B[32m   1286\u001B[39m \u001B[43m    \u001B[49m\u001B[43mpassword\u001B[49m\u001B[43m=\u001B[49m\u001B[38;5;28;43;01mFalse\u001B[39;49;00m\u001B[43m,\u001B[49m\n\u001B[32m   1287\u001B[39m \u001B[43m\u001B[49m\u001B[43m)\u001B[49m\n",
      "\u001B[36mFile \u001B[39m\u001B[32m~\\PycharmProjects\\venv_master\\Lib\\site-packages\\ipykernel\\kernelbase.py:1325\u001B[39m, in \u001B[36mKernel._input_request\u001B[39m\u001B[34m(self, prompt, ident, parent, password)\u001B[39m\n\u001B[32m   1322\u001B[39m \u001B[38;5;28;01mexcept\u001B[39;00m \u001B[38;5;167;01mKeyboardInterrupt\u001B[39;00m:\n\u001B[32m   1323\u001B[39m     \u001B[38;5;66;03m# re-raise KeyboardInterrupt, to truncate traceback\u001B[39;00m\n\u001B[32m   1324\u001B[39m     msg = \u001B[33m\"\u001B[39m\u001B[33mInterrupted by user\u001B[39m\u001B[33m\"\u001B[39m\n\u001B[32m-> \u001B[39m\u001B[32m1325\u001B[39m     \u001B[38;5;28;01mraise\u001B[39;00m \u001B[38;5;167;01mKeyboardInterrupt\u001B[39;00m(msg) \u001B[38;5;28;01mfrom\u001B[39;00m \u001B[38;5;28;01mNone\u001B[39;00m\n\u001B[32m   1326\u001B[39m \u001B[38;5;28;01mexcept\u001B[39;00m \u001B[38;5;167;01mException\u001B[39;00m:\n\u001B[32m   1327\u001B[39m     \u001B[38;5;28mself\u001B[39m.log.warning(\u001B[33m\"\u001B[39m\u001B[33mInvalid Message:\u001B[39m\u001B[33m\"\u001B[39m, exc_info=\u001B[38;5;28;01mTrue\u001B[39;00m)\n",
      "\u001B[31mKeyboardInterrupt\u001B[39m: Interrupted by user"
     ]
    }
   ],
   "execution_count": 6
  },
  {
   "metadata": {},
   "cell_type": "markdown",
   "source": [
    "Sample Input :\n",
    "Product Manager\n",
    "Led the launch of a mobile app that reached 500,000 users in 3 months, improving user engagement by 35%.\n"
   ],
   "id": "647a4563be318e84"
  }
 ],
 "metadata": {
  "kernelspec": {
   "display_name": "Python 3",
   "language": "python",
   "name": "python3"
  },
  "language_info": {
   "codemirror_mode": {
    "name": "ipython",
    "version": 2
   },
   "file_extension": ".py",
   "mimetype": "text/x-python",
   "name": "python",
   "nbconvert_exporter": "python",
   "pygments_lexer": "ipython2",
   "version": "2.7.6"
  }
 },
 "nbformat": 4,
 "nbformat_minor": 5
}
