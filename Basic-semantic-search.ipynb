{
 "cells": [
  {
   "metadata": {},
   "cell_type": "markdown",
   "source": "Embed 20 tech blog posts with OpenAI (or Sentence-Transformers), store in FAISS  or Chroma, and return the top-3 docs for a user query.",
   "id": "f17040f132c3d2c6"
  },
  {
   "metadata": {},
   "cell_type": "code",
   "source": [
    "from newspaper import Article\n",
    "from langchain.vectorstores import FAISS\n",
    "from langchain.docstore.document import Document\n",
    "from langchain_huggingface import HuggingFaceEmbeddings"
   ],
   "id": "initial_id",
   "outputs": [],
   "execution_count": null
  },
  {
   "metadata": {},
   "cell_type": "markdown",
   "source": "Getting text from blogs",
   "id": "86349ba4e76fabb3"
  },
  {
   "metadata": {},
   "cell_type": "code",
   "source": [
    "def fetch_blog(url):\n",
    "    article = Article(url)\n",
    "    article.download()\n",
    "    article.parse()\n",
    "    return article.text"
   ],
   "id": "e0cc934886a80c48",
   "outputs": [],
   "execution_count": null
  },
  {
   "metadata": {},
   "cell_type": "code",
   "source": [
    "urls = [\n",
    "    \"https://levelup.gitconnected.com/artificial-intelligence-is-not-what-you-think-it-is-442395abd9cb\",\n",
    "    \"https://medium.com/data-science/engineering-the-future-common-threads-in-data-software-and-artificial-intelligence-2aa46b262150\",\n",
    "    \"https://medium.datadriveninvestor.com/how-i-outperformed-the-market-by-130-because-of-artificial-intelligence-7d7a459a0081\",\n",
    "    \"https://medium.datadriveninvestor.com/artificial-intelligence-goldman-says-no-65dae6cd9353\",\n",
    "    \"https://medium.com/coinmonks/artificial-intelligence-ai-models-for-trading-0bfd308d012d\",\n",
    "    \"https://medium.com/ai-ai-oh/the-new-face-of-artificial-intelligence-9c900d463cf9\",\n",
    "    \"https://medium.com/@subaj/augmentedreality-and-artificialintelligence-are-bringing-a-new-spot-experience-in-daily-retail-3c4aae147541\",\n",
    "    \"https://abajaj033.medium.com/humanities-perspectives-on-artificial-intelligence-a-new-research-initiative-announced-by-neh-2c65995e9f7c\",\n",
    "    \"https://digitalexplorermyth.medium.com/ai-tools-for-easing-your-workload-say-goodbye-to-the-grind-3972779784a0\",\n",
    "    \"https://medium.com/@sukantkhurana/ai-written-song-on-indian-independence-day-1e51f8f4d5ff\",\n",
    "    \"https://medium.com/@withfries2/us-ai-better-together-62ae164f3ff2\",\n",
    "    \"https://medium.com/@HerbertRSim/artificial-intelligence-and-the-brain-can-machines-think-58ce4723bab0\",\n",
    "    \"https://medium.com/@HerbertRSim/artificial-intelligence-and-the-brain-can-machines-think-58ce4723bab0\",\n",
    "    \"https://arsala-khan.medium.com/how-ai-is-quietly-healing-minds-fd010b55a20c\",\n",
    "    \"https://medium.com/illumination-curated/does-artificial-intelligence-help-or-hinder-mindfulness-and-growth-of-a-mindset-48a4deb9efbf\",\n",
    "    \"https://medium.datadriveninvestor.com/ai-predictions-top-12-artificial-intelligence-trends-for-2024-c30e22e23b9f\",\n",
    "    \"https://cryptorookies.medium.com/decentralized-artificial-intelligence-the-trillion-dollar-opportunity-685212af92f7\",\n",
    "    \"https://heartbeat.comet.ml/artificial-intelligence-on-mobile-devices-e570fb99a9d4\",\n",
    "    \"https://medium.datadriveninvestor.com/5-free-courses-from-harvard-university-to-master-artificial-intelligence-93e9889ac8c9\",\n",
    "    \"https://medium.com/machine-cognition/with-artificial-intelligence-philosophy-of-mind-has-become-an-experimental-science-e0b79dc6601a\",\n",
    "    \"https://medium.com/technology-hits/the-future-of-work-is-ai-7e893076c817\"\n",
    "]"
   ],
   "id": "d5fbc93e6c720d93",
   "outputs": [],
   "execution_count": null
  },
  {
   "metadata": {},
   "cell_type": "markdown",
   "source": "Converting them in langchain docs\n",
   "id": "b885045a927df65b"
  },
  {
   "metadata": {},
   "cell_type": "code",
   "source": [
    "blogs = []\n",
    "for url in urls:\n",
    "    try:\n",
    "        text = fetch_blog(url)\n",
    "        blogs.append({\"text\": text, \"url\": url})\n",
    "    except Exception as e:\n",
    "        print(f\"Failed to fetch {url}: {e}\")\n",
    "\n",
    "docs = [\n",
    "    Document(page_content=blog[\"text\"],\n",
    "             metadata={\"url\" : blog[\"url\"]})\n",
    "    for blog in blogs\n",
    "]\n"
   ],
   "id": "9163b4b938fa8bd4",
   "outputs": [],
   "execution_count": null
  },
  {
   "metadata": {},
   "cell_type": "markdown",
   "source": "Initialising the model and storing it in FAISS\n",
   "id": "e072768e2b2448c3"
  },
  {
   "metadata": {},
   "cell_type": "code",
   "source": [
    "embedding_model = HuggingFaceEmbeddings(model_name=\"sentence-transformers/all-mpnet-base-v2\")\n",
    "db=FAISS.from_documents(docs, embedding_model)\n"
   ],
   "id": "8fed62747befb378",
   "outputs": [],
   "execution_count": null
  },
  {
   "metadata": {},
   "cell_type": "markdown",
   "source": "Testing",
   "id": "64c3c0e5cdfddac3"
  },
  {
   "metadata": {},
   "cell_type": "code",
   "source": [
    "query = input(\"What do you want to search : \")\n",
    "results = db.similarity_search(query,k=3)\n",
    "\n",
    "for doc in results:\n",
    "    print(doc.metadata['url'])\n",
    "    print(doc.page_content[:300], '...\\n')"
   ],
   "id": "5614689d5f299868",
   "outputs": [],
   "execution_count": null
  }
 ],
 "metadata": {
  "kernelspec": {
   "display_name": "Python 3",
   "language": "python",
   "name": "python3"
  },
  "language_info": {
   "codemirror_mode": {
    "name": "ipython",
    "version": 2
   },
   "file_extension": ".py",
   "mimetype": "text/x-python",
   "name": "python",
   "nbconvert_exporter": "python",
   "pygments_lexer": "ipython2",
   "version": "2.7.6"
  }
 },
 "nbformat": 4,
 "nbformat_minor": 5
}
